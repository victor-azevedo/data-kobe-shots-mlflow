{
 "cells": [
  {
   "cell_type": "code",
   "execution_count": 6,
   "metadata": {},
   "outputs": [],
   "source": [
    "import os\n",
    "import json\n",
    "import subprocess\n",
    "\n",
    "def init_on_kaggle(username, api_key):\n",
    "    KAGGLE_CONFIG_DIR = os.path.join(os.path.expandvars('$HOME'), '.kaggle')\n",
    "    KAGGLE_CONFIG_FILE = f\"{KAGGLE_CONFIG_DIR}/kaggle.json\"\n",
    "\n",
    "    os.makedirs(KAGGLE_CONFIG_DIR, exist_ok=True)\n",
    "    api_dict = {\"username\": username, \"key\": api_key}\n",
    "    with open(KAGGLE_CONFIG_FILE, \"w\", encoding='utf-8') as f:\n",
    "        json.dump(api_dict, f)\n",
    "    cmd = f\"chmod 600 {KAGGLE_CONFIG_FILE}\"\n",
    "    output = subprocess.check_output(cmd.split(\" \"))\n",
    "    output = output.decode(encoding='UTF-8')\n",
    "    print(f\"Generate kaggle.json:\\n\\t{KAGGLE_CONFIG_FILE}\")"
   ]
  },
  {
   "cell_type": "code",
   "execution_count": 7,
   "metadata": {},
   "outputs": [
    {
     "name": "stdout",
     "output_type": "stream",
     "text": [
      "Generate kaggle.json:\n",
      "\t/home/victor/.kaggle/kaggle.json\n"
     ]
    }
   ],
   "source": [
    "import yaml\n",
    "\n",
    "with open('../../conf/local/credentials.yml', 'r') as file:\n",
    "  credentials = yaml.safe_load(file)\n",
    "\n",
    "init_on_kaggle(credentials['kaggle']['username'], credentials['kaggle']['key'])"
   ]
  },
  {
   "cell_type": "code",
   "execution_count": 8,
   "metadata": {},
   "outputs": [
    {
     "name": "stdout",
     "output_type": "stream",
     "text": [
      "Configuration values from /home/victor/.kaggle\n",
      "- username: victor18azevedo\n",
      "- path: None\n",
      "- proxy: None\n",
      "- competition: None\n"
     ]
    }
   ],
   "source": [
    "import kaggle\n",
    "\n",
    "kaggle.api.print_config_values(prefix=\"- \")\n"
   ]
  }
 ],
 "metadata": {
  "kernelspec": {
   "display_name": "kedro",
   "language": "python",
   "name": "python3"
  },
  "language_info": {
   "codemirror_mode": {
    "name": "ipython",
    "version": 3
   },
   "file_extension": ".py",
   "mimetype": "text/x-python",
   "name": "python",
   "nbconvert_exporter": "python",
   "pygments_lexer": "ipython3",
   "version": "3.10.8"
  },
  "orig_nbformat": 4
 },
 "nbformat": 4,
 "nbformat_minor": 2
}
